{
 "cells": [
  {
   "cell_type": "code",
   "execution_count": null,
   "id": "white-parts",
   "metadata": {},
   "outputs": [],
   "source": [
    "s= 'Today was a lovely day. I took a trip to the beach.'\n",
    "st=s.lower()\n",
    "vowels=0\n",
    "for i in st:\n",
    "    if i=='a'or i=='o' or i=='u' or i=='i' or i=='e':\n",
    "        vowels+=1\n",
    "msg= 'This sentence has {} vowels'\n",
    "print(msg.format(vowels))"
   ]
  }
 ],
 "metadata": {
  "kernelspec": {
   "display_name": "Python 3",
   "language": "python",
   "name": "python3"
  },
  "language_info": {
   "codemirror_mode": {
    "name": "ipython",
    "version": 3
   },
   "file_extension": ".py",
   "mimetype": "text/x-python",
   "name": "python",
   "nbconvert_exporter": "python",
   "pygments_lexer": "ipython3",
   "version": "3.9.1"
  }
 },
 "nbformat": 4,
 "nbformat_minor": 5
}
